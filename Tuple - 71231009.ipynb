{
 "cells": [
  {
   "cell_type": "code",
   "execution_count": 9,
   "id": "c34b63df",
   "metadata": {},
   "outputs": [
    {
     "name": "stdout",
     "output_type": "stream",
     "text": [
      "True\n"
     ]
    }
   ],
   "source": [
    "def cek(tup):\n",
    "    elemen = tup[0]\n",
    "    for i in tup[1:]:\n",
    "        if i != elemen:\n",
    "            return False\n",
    "    return True\n",
    "\n",
    "tA = (90, 90, 90, 90)\n",
    "print(cek(tA))"
   ]
  },
  {
   "cell_type": "code",
   "execution_count": 10,
   "id": "9997ab9f",
   "metadata": {},
   "outputs": [
    {
     "name": "stdout",
     "output_type": "stream",
     "text": [
      "Data:  ('Emannuela Grace Ariana Widodo', '71231009', 'Sleman, DI Yogyakarta')\n",
      "NIM:  71231009\n",
      "NAMA:  Emannuela Grace Ariana Widodo\n",
      "ALAMAT : Sleman, DI Yogyakarta\n",
      "NIM:  ('7', '1', '2', '3', '1', '0', '0', '9')\n",
      "NAMA DEPAN:  ('e', 'm', 'a', 'n', 'n', 'u', 'e', 'l', 'a')\n",
      "NAMA TERBALIK:  ('Widodo', 'Ariana', 'Grace', 'Emannuela')\n"
     ]
    }
   ],
   "source": [
    "def proses(data):\n",
    "    nama, nim, alamat = data\n",
    "    \n",
    "    print(\"Data: \", data)\n",
    "    print(\"NIM: \", nim)\n",
    "    print(\"NAMA: \", nama)\n",
    "    print(\"ALAMAT :\", alamat)\n",
    "    print(\"NIM: \", tuple(nim))\n",
    "    print(\"NAMA DEPAN: \", tuple(nama.split()[0].lower()))\n",
    "    print(\"NAMA TERBALIK: \", tuple(nama.split()[::-1]))\n",
    "\n",
    "data_diri = ('Emannuela Grace Ariana Widodo', '71231009', 'Sleman, DI Yogyakarta')\n",
    "proses(data_diri)"
   ]
  },
  {
   "cell_type": "code",
   "execution_count": 13,
   "id": "bd004b47",
   "metadata": {},
   "outputs": [
    {
     "name": "stdout",
     "output_type": "stream",
     "text": [
      "masukan nama file: mbox-short.txt\n",
      "mbox-short.txt tidak ditemukan!\n"
     ]
    }
   ],
   "source": [
    "def hitungjam(namafile):\n",
    "    try:\n",
    "        file = open(file)\n",
    "    except:\n",
    "        print(namafile, 'tidak ditemukan!')\n",
    "        return\n",
    "    \n",
    "    distribusi_jam = {}\n",
    "\n",
    "    for i in file:\n",
    "        if i.startswith(\"From \"):\n",
    "            kata = i.split()\n",
    "            jam = kata[5].split(\":\")[0]\n",
    "            distribusi_jam[jam] = distribusi_jam.get(jam, 0) + 1\n",
    "\n",
    "    for jam in sorted(distribusi_jam):\n",
    "        print(jam, distribusi_jam[jam])\n",
    "\n",
    "    file.close()\n",
    "\n",
    "nama_file = input(\"masukan nama file: \")\n",
    "hitungjam(nama_file)"
   ]
  },
  {
   "cell_type": "code",
   "execution_count": null,
   "id": "b7e4b8ba",
   "metadata": {},
   "outputs": [],
   "source": []
  }
 ],
 "metadata": {
  "kernelspec": {
   "display_name": "Python 3 (ipykernel)",
   "language": "python",
   "name": "python3"
  },
  "language_info": {
   "codemirror_mode": {
    "name": "ipython",
    "version": 3
   },
   "file_extension": ".py",
   "mimetype": "text/x-python",
   "name": "python",
   "nbconvert_exporter": "python",
   "pygments_lexer": "ipython3",
   "version": "3.11.5"
  }
 },
 "nbformat": 4,
 "nbformat_minor": 5
}
