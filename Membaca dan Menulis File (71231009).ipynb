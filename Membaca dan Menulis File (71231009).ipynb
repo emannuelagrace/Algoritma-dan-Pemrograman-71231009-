{
 "cells": [
  {
   "cell_type": "code",
   "execution_count": null,
   "id": "3a1305c0",
   "metadata": {},
   "outputs": [],
   "source": [
    "def compare_files(file1, file2):\n",
    "    with open(file1, 'r') as f1, open(file2, 'r') as f2:\n",
    "        lines1 = f1.readlines()\n",
    "        lines2 = f2.readlines()\n",
    "\n",
    "    for i, (line1, line2) in enumerate(zip(lines1, lines2)):\n",
    "        if line1 != line2:\n",
    "            print(f\"Perbedaan pada baris {i+1}:\")\n",
    "            print(f\"File 1: {line1.strip()}\")\n",
    "            print(f\"File 2: {line2.strip()}\")\n",
    "            print()\n",
    "\n",
    "if __name__ == \"__main__\":\n",
    "    file1 = input(\"Masukkan nama file pertama: \")\n",
    "    file2 = input(\"Masukkan nama file kedua: \")\n",
    "    compare_files(file1, file2)"
   ]
  },
  {
   "cell_type": "code",
   "execution_count": null,
   "id": "703b83dc",
   "metadata": {},
   "outputs": [],
   "source": [
    "def load_questions(file_path):\n",
    "    questions = []\n",
    "    with open(file_path, 'r') as file:\n",
    "        for line in file:\n",
    "            question, answer = line.strip().split(\"||\")\n",
    "            questions.append((question.strip(), answer.strip()))\n",
    "    return questions\n",
    "\n",
    "def main():\n",
    "    file_path = \"soal.txt\"\n",
    "    questions = load_questions(file_path)\n",
    "\n",
    "    print(f\"Nama file: {file_path}\")\n",
    "\n",
    "    for question, correct_answer in questions:\n",
    "        print(question)\n",
    "        user_answer = input(\"Jawab: \").strip().lower()\n",
    "\n",
    "        if user_answer == correct_answer.lower():\n",
    "            print(\"Jawaban benar!\")\n",
    "        else:\n",
    "            print(\"Jawaban salah!\")\n",
    "\n",
    "if __name__ == \"__main__\":\n",
    "    main()"
   ]
  }
 ],
 "metadata": {
  "kernelspec": {
   "display_name": "Python 3 (ipykernel)",
   "language": "python",
   "name": "python3"
  },
  "language_info": {
   "codemirror_mode": {
    "name": "ipython",
    "version": 3
   },
   "file_extension": ".py",
   "mimetype": "text/x-python",
   "name": "python",
   "nbconvert_exporter": "python",
   "pygments_lexer": "ipython3",
   "version": "3.11.5"
  }
 },
 "nbformat": 4,
 "nbformat_minor": 5
}
