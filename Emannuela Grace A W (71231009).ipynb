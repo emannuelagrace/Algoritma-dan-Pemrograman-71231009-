{
 "cells": [
  {
   "cell_type": "code",
   "execution_count": 40,
   "id": "c67d7659",
   "metadata": {
    "scrolled": true
   },
   "outputs": [
    {
     "name": "stdout",
     "output_type": "stream",
     "text": [
      "Masukan suhu tubuh anda: tiga puluh\n",
      "Anda salah memasukan input!\n"
     ]
    }
   ],
   "source": [
    "suhuinp = input(\"Masukan suhu tubuh anda: \")\n",
    "try:\n",
    "    suhu = int(suhuinp)\n",
    "\n",
    "    if suhu >= 38:\n",
    "     print(\"Anda demam!\")\n",
    "    else:\n",
    "        print(\"Anda tidak demam :)\")\n",
    "\n",
    "except:\n",
    "    print('Anda salah memasukan input!')"
   ]
  },
  {
   "cell_type": "code",
   "execution_count": 41,
   "id": "597ef15e",
   "metadata": {},
   "outputs": [
    {
     "name": "stdout",
     "output_type": "stream",
     "text": [
      "Masukan bilangan bulat: -8\n",
      "Bilangan negatif\n"
     ]
    }
   ],
   "source": [
    "bilangan = input(\"Masukan bilangan bulat: \")\n",
    "try:\n",
    "    bilbul = int(bilangan)\n",
    "\n",
    "    if bilbul > 0:\n",
    "     print(\"Bilangan positif\")\n",
    "    elif bilbul < 0:\n",
    "        print(\"Bilangan negatif\")\n",
    "    elif bilbul == 0:\n",
    "        print(\"NOL\")\n",
    "\n",
    "except:\n",
    "    print('Anda salah memasukan input!')"
   ]
  },
  {
   "cell_type": "code",
   "execution_count": 42,
   "id": "29f9cbb6",
   "metadata": {},
   "outputs": [
    {
     "name": "stdout",
     "output_type": "stream",
     "text": [
      "Masukan a: 7\n",
      "Masukan b: 9\n",
      "Masukan c: 8\n",
      "Bilangan terbesar adalah:  9\n"
     ]
    }
   ],
   "source": [
    "angka = input(\"Masukan a: \")\n",
    "angka0 = input(\"Masukan b: \")\n",
    "angka1 = input(\"Masukan c: \")\n",
    "\n",
    "try:\n",
    "    a = int(angka)\n",
    "    b = int(angka0)\n",
    "    c = int(angka1)\n",
    "    \n",
    "    if a > b and a > c:\n",
    "     print(\"Bilangan terbesar adalah: \", a)\n",
    "    elif b > a and b > c:\n",
    "        print(\"Bilangan terbesar adalah: \", b)\n",
    "    elif c > a and c > b:\n",
    "        print(\"Bilangan terbesar adalah: \", c)\n",
    "\n",
    "except:\n",
    "    print('Anda salah memasukan input!')"
   ]
  },
  {
   "cell_type": "code",
   "execution_count": 38,
   "id": "6c9acb4f",
   "metadata": {
    "scrolled": true
   },
   "outputs": [
    {
     "name": "stdout",
     "output_type": "stream",
     "text": [
      "Masukan bilangan bulat: 0\n",
      "nol\n"
     ]
    }
   ],
   "source": [
    "bilbul = int(input(\"Masukan bilangan bulat: \"))\n",
    "bilangan = \"Bilangan positif\" if bilbul > 0 else \"Bilangan negatif\" if bilbul < 0 else \"nol\"\n",
    "print(bilangan)"
   ]
  },
  {
   "cell_type": "code",
   "execution_count": 43,
   "id": "05647e1d",
   "metadata": {},
   "outputs": [
    {
     "name": "stdout",
     "output_type": "stream",
     "text": [
      "- JUMLAH HARI DALAM SATU BULAN (2020) -\n",
      "Masukan bulan (1-12): 2\n",
      "Jumlah hari: 29\n"
     ]
    }
   ],
   "source": [
    "print(\"- JUMLAH HARI DALAM SATU BULAN (2020) -\")\n",
    "try:\n",
    "    bulan = int(input(\"Masukan bulan (1-12): \"))\n",
    "    if bulan == 1:\n",
    "        print(\"Jumlah hari: 30\")\n",
    "    elif bulan == 2:\n",
    "        print(\"Jumlah hari: 29\")\n",
    "    elif bulan == 3:\n",
    "        print(\"Jumlah hari: 31\")\n",
    "    elif bulan == 4:\n",
    "        print(\"Jumlah hari: 30\")\n",
    "    elif bulan == 5:\n",
    "        print(\"Jumlah hari: 31\")\n",
    "    elif bulan == 6:\n",
    "        print(\"Jumlah hari: 30\")\n",
    "    elif bulan == 7:\n",
    "        print(\"Jumlah hari: 31\")\n",
    "    elif bulan == 8:\n",
    "        print(\"Jumlah hari: 31\")\n",
    "    elif bulan == 9:\n",
    "        print(\"Jumlah hari: 30\")\n",
    "    elif bulan == 10:\n",
    "        print(\"Jumlah hari: 31\")\n",
    "    elif bulan == 11:\n",
    "        print(\"Jumlah hari: 30\")\n",
    "    elif bulan == 12:\n",
    "        print(\"Jumlah hari: 31\")\n",
    "    else:\n",
    "        print(\"Hanya 1 - 12 saja!!\")  \n",
    "    \n",
    "except:\n",
    "    print(\"input anda salah!\")"
   ]
  },
  {
   "cell_type": "code",
   "execution_count": 47,
   "id": "337dfc3c",
   "metadata": {},
   "outputs": [
    {
     "name": "stdout",
     "output_type": "stream",
     "text": [
      "Masukan sisi 1: 1\n",
      "Masukan sisi 2: 2\n",
      "Masukan sisi 3: 1\n",
      "2 sisi sama\n"
     ]
    }
   ],
   "source": [
    "sisi1 = int(input(\"Masukan sisi 1: \"))\n",
    "sisi2 = int(input(\"Masukan sisi 2: \"))\n",
    "sisi3 = int(input(\"Masukan sisi 3: \"))\n",
    "try:  \n",
    "    if sisi1 == sisi2 or sisi1 == sisi3 or sisi2 == sisi3:\n",
    "        print(\"2 sisi sama\")\n",
    "    elif sisi1 == sisi2 == sisi3:\n",
    "        print(\"3 sisi sama\")\n",
    "    else:\n",
    "        print(\"Tidak ada yang sama\")\n",
    "except:\n",
    "    print(\"Invalid input!\")"
   ]
  }
 ],
 "metadata": {
  "kernelspec": {
   "display_name": "Python 3 (ipykernel)",
   "language": "python",
   "name": "python3"
  },
  "language_info": {
   "codemirror_mode": {
    "name": "ipython",
    "version": 3
   },
   "file_extension": ".py",
   "mimetype": "text/x-python",
   "name": "python",
   "nbconvert_exporter": "python",
   "pygments_lexer": "ipython3",
   "version": "3.11.5"
  }
 },
 "nbformat": 4,
 "nbformat_minor": 5
}
