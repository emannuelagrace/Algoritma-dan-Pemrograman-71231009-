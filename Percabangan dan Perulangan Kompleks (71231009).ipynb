{
 "cells": [
  {
   "cell_type": "code",
   "execution_count": 1,
   "id": "1a32b342",
   "metadata": {},
   "outputs": [
    {
     "name": "stdout",
     "output_type": "stream",
     "text": [
      "Masukkan bilangan: 21\n",
      "Bilangan prima < 21 adalah 19\n"
     ]
    }
   ],
   "source": [
    "def cari_prima_terbesar(a):\n",
    "    for i in range(a - 1, 1, -1):\n",
    "        if prima(i):\n",
    "            return i\n",
    "    \n",
    "def prima(angka):\n",
    "    if angka <= 1:\n",
    "        return False\n",
    "    for i in range(2, int(angka**0.5) + 1):\n",
    "        if angka % i == 0:\n",
    "            return False\n",
    "    return True\n",
    "\n",
    "a = int(input(\"Masukkan bilangan: \"))\n",
    "\n",
    "primanya = cari_prima_terbesar(a)\n",
    "print(f\"Bilangan prima < {a} adalah {primanya}\")\n"
   ]
  },
  {
   "cell_type": "code",
   "execution_count": 2,
   "id": "1045e1a3",
   "metadata": {},
   "outputs": [
    {
     "name": "stdout",
     "output_type": "stream",
     "text": [
      "Masukkan nilai: 6\n",
      "720 6 5 4 3 2 1 \n",
      "120 5 4 3 2 1 \n",
      "24 4 3 2 1 \n",
      "6 3 2 1 \n",
      "2 2 1 \n",
      "1 1 \n"
     ]
    }
   ],
   "source": [
    "def faktorial(angka):\n",
    "     if angka == 0 or angka == 1:\n",
    "         return 1\n",
    "     else:\n",
    "         return angka * faktorial(angka - 1)\n",
    "    \n",
    "n = int(input(\"Masukkan nilai: \"))\n",
    "\n",
    "for i in range(n, 0, -1):\n",
    "     print(faktorial(i), end=\" \")\n",
    "     for j in range(i, 0, -1):\n",
    "         print(j, end=\" \")\n",
    "     print()"
   ]
  },
  {
   "cell_type": "code",
   "execution_count": 3,
   "id": "065210d9",
   "metadata": {},
   "outputs": [
    {
     "name": "stdout",
     "output_type": "stream",
     "text": [
      "Masukkan tinggi: 5\n",
      "Masukkan lebar: 4\n",
      "1 2 3 4\n",
      "5 6 7 8\n",
      "9 10 11 12\n",
      "13 14 15 16\n",
      "17 18 19 20\n"
     ]
    }
   ],
   "source": [
    "def tampilkan_deret(tinggi, lebar):\n",
    "    mulai = 1\n",
    "    for i in range(tinggi):\n",
    "        baris = []\n",
    "        for j in range(lebar):\n",
    "            baris += [mulai]\n",
    "            mulai += 1\n",
    "        print(*baris)\n",
    "\n",
    "tinggi = int(input(\"Masukkan tinggi: \"))\n",
    "lebar = int(input(\"Masukkan lebar: \"))\n",
    "\n",
    "tampilkan_deret(tinggi, lebar)"
   ]
  },
  {
   "cell_type": "code",
   "execution_count": null,
   "id": "230c163c",
   "metadata": {},
   "outputs": [],
   "source": []
  }
 ],
 "metadata": {
  "kernelspec": {
   "display_name": "Python 3 (ipykernel)",
   "language": "python",
   "name": "python3"
  },
  "language_info": {
   "codemirror_mode": {
    "name": "ipython",
    "version": 3
   },
   "file_extension": ".py",
   "mimetype": "text/x-python",
   "name": "python",
   "nbconvert_exporter": "python",
   "pygments_lexer": "ipython3",
   "version": "3.11.5"
  }
 },
 "nbformat": 4,
 "nbformat_minor": 5
}
