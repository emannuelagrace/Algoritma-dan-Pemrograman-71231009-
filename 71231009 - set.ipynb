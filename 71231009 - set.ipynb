{
 "cells": [
  {
   "cell_type": "code",
   "execution_count": null,
   "id": "22f24dfa",
   "metadata": {},
   "outputs": [],
   "source": [
    "kategori_aplikasi = {\n",
    "    'Game': ['MoLe', 'pubg', 'epep'],\n",
    "    'Edukasi': ['epep', 'duolingo', 'brainly'],\n",
    "    'Belanja': ['MoLe', 'Lazada', 'Shopee', 'Tokopedia']\n",
    "}\n",
    "\n",
    "jumlah_aplikasi = {}\n",
    "for kategori, aplikasi in kategori_aplikasi.items():\n",
    "    for i in aplikasi:\n",
    "        if i not in jumlah_aplikasi:\n",
    "            jumlah_aplikasi[i] = 0\n",
    "        jumlah_aplikasi[i] += 1\n",
    "\n",
    "satu = [i for i, jumlah in jumlah_aplikasi.items() if jumlah == 1]\n",
    "print(\"Aplikasi yang hanya ada di satu kategori:\", satu)\n",
    "\n",
    "n = 2\n",
    "dua = [i for i, jumlah in jumlah_aplikasi.items() if jumlah == n]\n",
    "print(\"Aplikasi yang berada di {n} kategori:\", dua)"
   ]
  },
  {
   "cell_type": "code",
   "execution_count": null,
   "id": "9623c6ea",
   "metadata": {},
   "outputs": [],
   "source": [
    "listnama = [\"amal\", \"bambang\", \"caca\", \"dodi\"]\n",
    "print(listnama, \"ini masih list ya\")\n",
    "kon = set(listnama)\n",
    "print(kon, \"udah set ya ini\")\n",
    "\n",
    "dataset = {0,1,2,3,4,5,6,7,8,9}\n",
    "print(dataset, \"ini masih set ya\")\n",
    "ubahlist = list(dataset)\n",
    "print(ubahlist,\"udah list ya\")\n",
    "\n",
    "datatuple = (0,1,2,3,4,5,6,7,8,9)\n",
    "print(datatuple,\"ini masih data tuple ya?\")\n",
    "udahset = set(datatuple)\n",
    "print(udahset,'udah set kan? hehe :)')\n",
    "\n",
    "dataset = {0,1,2,3,4,5,6,7,8,9}\n",
    "print(dataset, \"ini masih set ya\")\n",
    "ubahtup = tuple(dataset)\n",
    "print(ubahtup,\"udah tuple kan ya :)\")"
   ]
  },
  {
   "cell_type": "code",
   "execution_count": null,
   "id": "cc3dc65d",
   "metadata": {},
   "outputs": [],
   "source": [
    "def tampilkan_semuakata():\n",
    "    file1 = input(\"masukan file pertama: \")\n",
    "    file2 = input(\"masukan file kedua: \")\n",
    "    try:\n",
    "        with open(file1, 'r') as file:\n",
    "            katadifile1 = set(file.read().lower().split())\n",
    "        with open(file2, 'r') as file:\n",
    "            katadifile2 = set(file.read().lower().split())\n",
    "\n",
    "        katakata = katadifile1.intersection(katadifile2)\n",
    "        print(\"kata yang muncul di kedua file, yaitu\", katakata)\n",
    "\n",
    "    except:\n",
    "        print(\"INFORMASI: SATU ATAU BAHKAN KEDUA FILE TIDAK DAPAT DITEMUKAN ATAU DIBUKA\")\n",
    "tampilkan_semuakata()"
   ]
  }
 ],
 "metadata": {
  "kernelspec": {
   "display_name": "Python 3 (ipykernel)",
   "language": "python",
   "name": "python3"
  },
  "language_info": {
   "codemirror_mode": {
    "name": "ipython",
    "version": 3
   },
   "file_extension": ".py",
   "mimetype": "text/x-python",
   "name": "python",
   "nbconvert_exporter": "python",
   "pygments_lexer": "ipython3",
   "version": "3.11.5"
  }
 },
 "nbformat": 4,
 "nbformat_minor": 5
}
