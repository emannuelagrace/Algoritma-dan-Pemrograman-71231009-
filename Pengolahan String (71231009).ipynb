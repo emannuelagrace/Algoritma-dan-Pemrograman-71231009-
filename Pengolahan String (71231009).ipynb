{
 "cells": [
  {
   "cell_type": "code",
   "execution_count": 1,
   "id": "0151edc7",
   "metadata": {},
   "outputs": [
    {
     "name": "stdout",
     "output_type": "stream",
     "text": [
      "masukkan kata 1: mata\n",
      "masukkan kata 2: amta\n",
      "keduanya adalah anagram.\n"
     ]
    }
   ],
   "source": [
    "def cek_anagram(kata1, kata2):\n",
    "    return sorted(kata1) == sorted(kata2)\n",
    "# sorted digunakan untuk mengurutkan karakter-karakter dalam kata\n",
    "# sehingga bisa dibandingkan apakah kedua kata memiliki susunan huruf yang sama.\n",
    "\n",
    "# diminta input\n",
    "kata1 = input(\"masukkan kata 1: \")\n",
    "kata2 = input(\"masukkan kata 2: \")\n",
    "\n",
    "if cek_anagram(kata1, kata2):\n",
    "    print(\"keduanya adalah anagram.\")\n",
    "# jika pengurutannya sama, maka akan dicetak kata \"keduanya adalah anagram\"\n",
    "else:\n",
    "    print(\"keduanya bukan anagram.\")\n",
    "# jika pengurutannya tidak sama, maka akan dicetak kata \"keduanya bukan anagram\""
   ]
  },
  {
   "cell_type": "code",
   "execution_count": 3,
   "id": "d3e8c86f",
   "metadata": {},
   "outputs": [
    {
     "name": "stdout",
     "output_type": "stream",
     "text": [
      "ada 2 kata Makan\n"
     ]
    }
   ],
   "source": [
    "def hitung_frekuensi_kata(kalimat, kata):\n",
    "    kata_kalimat = kalimat.split()\n",
    "# .split digunakan untuk memecah kalimat menjadi per kata\n",
    "    muncul = kata_kalimat.count(kata)\n",
    "# .count digunakan untuk menghitung frekuensi kemunculan kata\n",
    "    return muncul\n",
    "\n",
    "\n",
    "kalimat = \"Saya Mau Makan. Makan Itu Wajib. Mau Siang Atau Malam Saya Wajib Makan\"\n",
    "dicari = \"Makan\"\n",
    "\n",
    "frekuensi = hitung_frekuensi_kata(kalimat, dicari)\n",
    "print(f\"ada {frekuensi} kata {dicari}\")\n",
    "# output makan = 2"
   ]
  },
  {
   "cell_type": "code",
   "execution_count": 4,
   "id": "e5391992",
   "metadata": {},
   "outputs": [
    {
     "name": "stdout",
     "output_type": "stream",
     "text": [
      "saya tidak suka memancing ikan\n"
     ]
    }
   ],
   "source": [
    "def hapus_spasi_berlebih(kalimat):\n",
    "    pisah = kalimat.split()\n",
    "# .split() digunakan untuk memecah string menjadi per kata    \n",
    "    normal = \" \".join(pisah)\n",
    "# .join digunakan untuk menggabungkan kembali kata-kata menjadi normal\n",
    "    return normal\n",
    "\n",
    "# isi kalimat yang ingin diubah\n",
    "kalimat = \"saya tidak   suka   memancing ikan   \"\n",
    "normal = hapus_spasi_berlebih(kalimat)\n",
    "print(normal)\n",
    "#output \"saya tidak suka memancing ikan\""
   ]
  },
  {
   "cell_type": "code",
   "execution_count": 5,
   "id": "bbae594d",
   "metadata": {},
   "outputs": [
    {
     "name": "stdout",
     "output_type": "stream",
     "text": [
      "masukkan kalimat: red snakes and a black frog in the pool\n",
      "Kata terpendek: a\n",
      "Kata terpanjang: snakes\n"
     ]
    }
   ],
   "source": [
    "def temukan_kata_terpendek_dan_terpanjang(kalimat):\n",
    "    normal = kalimat.split()\n",
    "# variabel normal merupakan kalimat input\n",
    "# .split digunakan untuk memisahkan kalimat menjadi per kata\n",
    "    terpendek = min(normal, key=len)\n",
    "# varibel terpendek dengan fungsi min() digunakan untuk mencari kata terpendek berdasarkan panjang katanya\n",
    "    terpanjang = max(normal, key=len)\n",
    "# varibel terpanjang dengan fungsi max() digunakan untuk mencari kata terpanjang berdasarkan panjang katanya\n",
    "    return terpendek, terpanjang\n",
    "\n",
    "# diminta input\n",
    "kalimat = input(\"masukkan kalimat: \")\n",
    "terpendek, terpanjang = temukan_kata_terpendek_dan_terpanjang(kalimat)\n",
    "print(f\"Kata terpendek: {terpendek}\\nKata terpanjang: {terpanjang}\")\n",
    "# kalimat input: red snakes and a black frog in the pool\n",
    "# output terpendek: a\n",
    "# output terpanjang: snakes"
   ]
  }
 ],
 "metadata": {
  "kernelspec": {
   "display_name": "Python 3 (ipykernel)",
   "language": "python",
   "name": "python3"
  },
  "language_info": {
   "codemirror_mode": {
    "name": "ipython",
    "version": 3
   },
   "file_extension": ".py",
   "mimetype": "text/x-python",
   "name": "python",
   "nbconvert_exporter": "python",
   "pygments_lexer": "ipython3",
   "version": "3.11.5"
  }
 },
 "nbformat": 4,
 "nbformat_minor": 5
}
