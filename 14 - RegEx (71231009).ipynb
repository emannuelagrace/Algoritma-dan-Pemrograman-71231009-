{
 "cells": [
  {
   "cell_type": "code",
   "execution_count": null,
   "id": "c3c2f48b",
   "metadata": {},
   "outputs": [],
   "source": [
    "import re\n",
    "from datetime import datetime\n",
    "\n",
    "def hitungtanggal(teks):\n",
    "    polatanggal = r'\\b\\d{4}-\\d{2}-\\d{2}\\b'\n",
    "    daftar = re.findall(polatanggal, teks)\n",
    "    tglskrg = datetime.now()\n",
    "    hasil = []\n",
    "\n",
    "    for tanggal in daftar:\n",
    "        tgllama = datetime.strptime(tanggal, '%Y-%m-%d')\n",
    "        selisih = (tglskrg - tgllama).days\n",
    "        tanggalbaru = tgllama.strftime('%d-%m-%Y')\n",
    "        hasil.append(f\"{tanggalbaru} selisih {selisih} hari\")\n",
    "    return hasil\n",
    "\n",
    "teks = \"\"\n",
    "akhir = hitungtanggal(teks)\n",
    "for i in akhir:\n",
    "    print(i)"
   ]
  },
  {
   "cell_type": "code",
   "execution_count": null,
   "id": "caae6059",
   "metadata": {},
   "outputs": [],
   "source": [
    "import re\n",
    "import random\n",
    "import string\n",
    "\n",
    "pola = r'(\\b[A-Za-z0-9._%+-]+@[A-Za-z0-9.-]+\\.[A-Z|a-z]{2,}\\b)\\s+dimiliki\\s+oleh\\s+(\\w+)'\n",
    "\n",
    "def buatpassword(p = 8):\n",
    "    char = string.ascii_letters + string.digits\n",
    "    return ''.join(random.choice(char) for i in range(p))\n",
    "\n",
    "teks = \"\"\n",
    "email_un = re.findall(pola, teks)\n",
    "for email, username in email_un:\n",
    "    password = buatpassword()\n",
    "    print(\"##########- BATAS - ##########\")\n",
    "    print(f\"email:{email}\")\n",
    "    print(f\"username:{username}\")\n",
    "    print(f\"password:{password}\")"
   ]
  }
 ],
 "metadata": {
  "kernelspec": {
   "display_name": "Python 3 (ipykernel)",
   "language": "python",
   "name": "python3"
  },
  "language_info": {
   "codemirror_mode": {
    "name": "ipython",
    "version": 3
   },
   "file_extension": ".py",
   "mimetype": "text/x-python",
   "name": "python",
   "nbconvert_exporter": "python",
   "pygments_lexer": "ipython3",
   "version": "3.11.5"
  }
 },
 "nbformat": 4,
 "nbformat_minor": 5
}
