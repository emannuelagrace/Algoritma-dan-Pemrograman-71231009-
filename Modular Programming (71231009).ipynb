{
 "cells": [
  {
   "cell_type": "code",
   "execution_count": null,
   "id": "2766ff2b",
   "metadata": {},
   "outputs": [],
   "source": [
    "def cek_angka(a, b, c):\n",
    "    if a != b and b != c and c != a:\n",
    "        if a + b == c or b + c == a or a + c == b:\n",
    "            return True\n",
    "        else:\n",
    "            return False\n",
    "    else:\n",
    "        return False\n",
    "    \n",
    "angka1=int(input('a: '))\n",
    "angka2=int(input('b: '))\n",
    "angka3=int(input('c: '))\n",
    "\n",
    "print(cek_angka(angka1, angka2, angka3))"
   ]
  },
  {
   "cell_type": "code",
   "execution_count": null,
   "id": "d0799a77",
   "metadata": {},
   "outputs": [],
   "source": [
    "def cek_digit_belakang(a, b, c):\n",
    "    digit_akhir = lambda x: x % 10\n",
    "    \n",
    "    if digit_akhir(a) == digit_akhir(b) or digit_akhir(b) == digit_akhir(c) or digit_akhir(a) == digit_akhir(c):\n",
    "        return True\n",
    "    else:\n",
    "        return False\n",
    "\n",
    "angka1=int(input('a: '))\n",
    "angka2=int(input('b: '))\n",
    "angka3=int(input('c: '))\n",
    "\n",
    "print(cek_digit_belakang(angka1, angka2, angka3))"
   ]
  },
  {
   "cell_type": "code",
   "execution_count": null,
   "id": "81d16763",
   "metadata": {},
   "outputs": [],
   "source": [
    "celcius_to_fahrenheit = lambda c: (9/5) * c + 32\n",
    "celcius_to_reamur = lambda c: 0.8 * c\n",
    "\n",
    "cel = int(input('masukan celcius: '))\n",
    "print(\"Celcius to Farenheit:\\n\", celcius_to_fahrenheit(cel))\n",
    "print(\"Celcius to Reamur:\\n\", celcius_to_reamur(cel))"
   ]
  },
  {
   "cell_type": "code",
   "execution_count": null,
   "id": "3bb76921",
   "metadata": {},
   "outputs": [],
   "source": []
  }
 ],
 "metadata": {
  "kernelspec": {
   "display_name": "Python 3 (ipykernel)",
   "language": "python",
   "name": "python3"
  },
  "language_info": {
   "codemirror_mode": {
    "name": "ipython",
    "version": 3
   },
   "file_extension": ".py",
   "mimetype": "text/x-python",
   "name": "python",
   "nbconvert_exporter": "python",
   "pygments_lexer": "ipython3",
   "version": "3.11.5"
  }
 },
 "nbformat": 4,
 "nbformat_minor": 5
}
