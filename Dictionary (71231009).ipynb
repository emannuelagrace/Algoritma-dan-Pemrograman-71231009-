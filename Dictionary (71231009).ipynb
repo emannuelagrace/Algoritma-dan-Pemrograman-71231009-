{
 "cells": [
  {
   "cell_type": "code",
   "execution_count": 1,
   "id": "93eec529",
   "metadata": {},
   "outputs": [
    {
     "name": "stdout",
     "output_type": "stream",
     "text": [
      "key value item\n",
      "1 10 1\n",
      "2 20 2\n",
      "3 30 3\n",
      "4 40 4\n",
      "5 50 5\n",
      "6 60 6\n"
     ]
    }
   ],
   "source": [
    "def dictionary_print(dictionary):\n",
    "    print(\"key value item\")\n",
    "\n",
    "    for key, value in dictionary.items():\n",
    "        print(key, value, key)\n",
    "        \n",
    "dictionary = {1: 10, 2: 20, 3: 30, 4: 40, 5: 50, 6: 60}\n",
    "dictionary_print(dictionary)"
   ]
  },
  {
   "cell_type": "code",
   "execution_count": 2,
   "id": "8cc14f2b",
   "metadata": {},
   "outputs": [
    {
     "name": "stdout",
     "output_type": "stream",
     "text": [
      "{'red': '#FF0000', 'green': '#008000', 'blue': '#0000FF'}\n"
     ]
    }
   ],
   "source": [
    "def list_to_dict(list_a, list_b):\n",
    "    dict = {}\n",
    "\n",
    "    for key, value in zip(list_a, list_b):\n",
    "        dict[key] = value\n",
    "    return dict\n",
    "\n",
    "lista = ['red', 'green', 'blue']\n",
    "listb = ['#FF0000', '#008000', '#0000FF']\n",
    "print(list_to_dict(lista, listb))"
   ]
  },
  {
   "cell_type": "code",
   "execution_count": 3,
   "id": "485b1544",
   "metadata": {},
   "outputs": [
    {
     "name": "stdout",
     "output_type": "stream",
     "text": [
      "Masukkan nama file: mbox-short.txt\n",
      "{'stephen.marquard@uct.ac.za': 2, 'louis@media.berkeley.edu': 3, 'zqian@umich.edu': 4, 'rjlowe@iupui.edu': 2, 'cwen@iupui.edu': 5, 'gsilver@umich.edu': 3, 'wagnermr@iupui.edu': 1, 'antranig@caret.cam.ac.uk': 1, 'gopal.ramasammycook@gmail.com': 1, 'david.horwitz@uct.ac.za': 4, 'ray@media.berkeley.edu': 1}\n"
     ]
    }
   ],
   "source": [
    "def count_emails(filename):\n",
    "    email_counts = {}\n",
    "\n",
    "    with open(filename, 'r') as file:\n",
    "        for line in file:\n",
    "            if line.startswith('From '):\n",
    "                email = line.split()[1]\n",
    "                email_counts[email] = email_counts.get(email, 0) + 1\n",
    "    return email_counts\n",
    "\n",
    "filename = input(\"Masukkan nama file: \")\n",
    "print(count_emails(filename))"
   ]
  },
  {
   "cell_type": "code",
   "execution_count": 4,
   "id": "0f95bbab",
   "metadata": {},
   "outputs": [
    {
     "name": "stdout",
     "output_type": "stream",
     "text": [
      "Masukkan nama file: mbox-short.txt\n",
      "{'uct.ac.za': 6, 'media.berkeley.edu': 4, 'umich.edu': 7, 'iupui.edu': 8, 'caret.cam.ac.uk': 1, 'gmail.com': 1}\n"
     ]
    }
   ],
   "source": [
    "def count_domain_emails(filename):\n",
    "    domain_counts = {}\n",
    "\n",
    "    with open(filename, 'r') as file:\n",
    "        for line in file:\n",
    "            if line.startswith('From '):\n",
    "                domain = line.split('@')[-1].split()[0]\n",
    "                domain_counts[domain] = domain_counts.get(domain, 0) + 1\n",
    "    return domain_counts\n",
    "\n",
    "filename = input(\"Masukkan nama file: \")\n",
    "print(count_domain_emails(filename))"
   ]
  }
 ],
 "metadata": {
  "kernelspec": {
   "display_name": "Python 3 (ipykernel)",
   "language": "python",
   "name": "python3"
  },
  "language_info": {
   "codemirror_mode": {
    "name": "ipython",
    "version": 3
   },
   "file_extension": ".py",
   "mimetype": "text/x-python",
   "name": "python",
   "nbconvert_exporter": "python",
   "pygments_lexer": "ipython3",
   "version": "3.11.5"
  }
 },
 "nbformat": 4,
 "nbformat_minor": 5
}
