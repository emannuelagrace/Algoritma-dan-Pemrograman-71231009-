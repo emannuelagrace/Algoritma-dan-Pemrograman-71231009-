{
 "cells": [
  {
   "cell_type": "code",
   "execution_count": 1,
   "id": "4baa23ad",
   "metadata": {},
   "outputs": [
    {
     "name": "stdout",
     "output_type": "stream",
     "text": [
      "Tiga nilai terbaik yaitu,  [100, 95, 90]\n"
     ]
    }
   ],
   "source": [
    "def nilai_terbaik(daftar_nilai):\n",
    "    daftar_nilai.sort(reverse=True)\n",
    "    nilai_terbaik = daftar_nilai[:3]\n",
    "    return nilai_terbaik\n",
    "\n",
    "\n",
    "daftar_nilai = [60, 100, 30, 90, 77, 95, 80]\n",
    "nilai_terbaik = nilai_terbaik(daftar_nilai)\n",
    "print(\"Tiga nilai terbaik yaitu, \", nilai_terbaik)"
   ]
  },
  {
   "cell_type": "code",
   "execution_count": 2,
   "id": "c91357ac",
   "metadata": {},
   "outputs": [
    {
     "name": "stdout",
     "output_type": "stream",
     "text": [
      "Masukkan angka (ketik 'done' untuk selesai): 23\n",
      "Masukkan angka (ketik 'done' untuk selesai): 445\n",
      "Masukkan angka (ketik 'done' untuk selesai): 21\n",
      "Masukkan angka (ketik 'done' untuk selesai): 346\n",
      "Masukkan angka (ketik 'done' untuk selesai): 786\n",
      "Masukkan angka (ketik 'done' untuk selesai): 3243\n",
      "Masukkan angka (ketik 'done' untuk selesai): 1\n",
      "Masukkan angka (ketik 'done' untuk selesai): done\n",
      "Nilai maksimum: 3243.0\n",
      "Nilai minimum: 1.0\n"
     ]
    }
   ],
   "source": [
    "def main():\n",
    "    angka = []\n",
    "\n",
    "    while True:\n",
    "        masukan = input(\"Masukkan angka (ketik 'done' untuk selesai): \")\n",
    "        if masukan.lower() == 'done':\n",
    "            break\n",
    "        try:\n",
    "            angka.append(float(masukan))\n",
    "        except:\n",
    "            print(\"harap masukkan angka!\")\n",
    "\n",
    "    if angka:\n",
    "        print(\"Nilai maksimum:\", max(angka))\n",
    "        print(\"Nilai minimum:\", min(angka))\n",
    "    else:\n",
    "        print(\"daftar angka kosong\")\n",
    "\n",
    "if __name__ == \"__main__\":\n",
    "    main()"
   ]
  },
  {
   "cell_type": "code",
   "execution_count": null,
   "id": "a3088eaf",
   "metadata": {},
   "outputs": [],
   "source": [
    "def baca_file(nama_file):\n",
    "    kata_unik = set()\n",
    "\n",
    "    with open(nama_file, 'r') as file:\n",
    "        for baris in file:\n",
    "            kata = baris.strip().split()\n",
    "            kata_unik.update(kata)\n",
    "    return kata_unik\n",
    "\n",
    "def main():\n",
    "    nama_file = input(\"Masukkan nama file: \")\n",
    "    kata_unik = baca_file(nama_file)\n",
    "    print(\"Kata-kata unik dalam file:\", kata_unik)\n",
    "\n",
    "if __name__ == \"__main__\":\n",
    "    main()"
   ]
  },
  {
   "cell_type": "code",
   "execution_count": null,
   "id": "2749417b",
   "metadata": {},
   "outputs": [],
   "source": []
  }
 ],
 "metadata": {
  "kernelspec": {
   "display_name": "Python 3 (ipykernel)",
   "language": "python",
   "name": "python3"
  },
  "language_info": {
   "codemirror_mode": {
    "name": "ipython",
    "version": 3
   },
   "file_extension": ".py",
   "mimetype": "text/x-python",
   "name": "python",
   "nbconvert_exporter": "python",
   "pygments_lexer": "ipython3",
   "version": "3.11.5"
  }
 },
 "nbformat": 4,
 "nbformat_minor": 5
}
